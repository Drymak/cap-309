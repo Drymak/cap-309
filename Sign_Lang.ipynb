{
  "nbformat": 4,
  "nbformat_minor": 0,
  "metadata": {
    "colab": {
      "name": "Copie de Sign_Lang.ipynb",
      "provenance": [],
      "collapsed_sections": [],
      "include_colab_link": true
    },
    "kernelspec": {
      "name": "python3",
      "display_name": "Python 3"
    },
    "accelerator": "GPU"
  },
  "cells": [
    {
      "cell_type": "markdown",
      "metadata": {
        "id": "view-in-github",
        "colab_type": "text"
      },
      "source": [
        "<a href=\"https://colab.research.google.com/github/Drymak/cap-309/blob/main/Sign_Lang.ipynb\" target=\"_parent\"><img src=\"https://colab.research.google.com/assets/colab-badge.svg\" alt=\"Open In Colab\"/></a>"
      ]
    },
    {
      "cell_type": "markdown",
      "source": [
        "**import libraries**"
      ],
      "metadata": {
        "id": "ArKN5YJJzlsD"
      }
    },
    {
      "cell_type": "code",
      "metadata": {
        "id": "t4Jmmm1St5Yv"
      },
      "source": [
        "import tensorflow as tf\n",
        "import pandas as pd\n",
        "import numpy as np\n",
        "import matplotlib.pyplot as plt\n",
        "%matplotlib inline"
      ],
      "execution_count": null,
      "outputs": []
    },
    {
      "cell_type": "markdown",
      "source": [
        "**open drive**"
      ],
      "metadata": {
        "id": "hfbjTegPz85L"
      }
    },
    {
      "cell_type": "code",
      "metadata": {
        "id": "7Cn91v0KFwQF",
        "colab": {
          "base_uri": "https://localhost:8080/"
        },
        "outputId": "6a5cb2e0-1762-4a0c-e9eb-68ba474e96ae"
      },
      "source": [
        "from google.colab import drive\n",
        "drive.mount('/content/drive')"
      ],
      "execution_count": null,
      "outputs": [
        {
          "output_type": "stream",
          "name": "stdout",
          "text": [
            "Mounted at /content/drive\n"
          ]
        }
      ]
    },
    {
      "cell_type": "markdown",
      "source": [
        "**load the dataset**"
      ],
      "metadata": {
        "id": "ZAijmkCMzjvt"
      }
    },
    {
      "cell_type": "code",
      "metadata": {
        "id": "n5e4dxdmF0HN",
        "colab": {
          "base_uri": "https://localhost:8080/"
        },
        "outputId": "f0d83082-c5f8-4a42-b4e1-fbc3d059cfc1"
      },
      "source": [
        "dataset_path = \"/content/drive/shared with me/ArSL/dataset/ArASL_Database_54K_Final\"\n",
        "label_path = \"/content/drive/shared with me/ArSL/dataset/ArSL_Data_Labels.csv\"\n",
        "\n",
        "!cp -r '/content/drive/My Drive/ArSL' /content/sample_data/\n",
        "\n",
        "dataset_path = \"/content/sample_data/ArSL/dataset/ArASL_Database_54K_Final\"\n",
        "label_path = \"/content/sample_data/ArSL/dataset/ArSL_Data_Labels.csv\"\n"
      ],
      "execution_count": null,
      "outputs": [
        {
          "output_type": "stream",
          "name": "stdout",
          "text": [
            "cp: cannot stat '/content/drive/My Drive/ArSL': No such file or directory\n"
          ]
        }
      ]
    },
    {
      "cell_type": "code",
      "metadata": {
        "id": "sizGFTsbAnxC",
        "colab": {
          "base_uri": "https://localhost:8080/"
        },
        "outputId": "a78f71da-81c4-4ad0-9396-57c3ee756b96"
      },
      "source": [
        "!ls /content/sample_data/\n"
      ],
      "execution_count": null,
      "outputs": [
        {
          "output_type": "stream",
          "name": "stdout",
          "text": [
            "anscombe.json\t\t      mnist_test.csv\n",
            "california_housing_test.csv   mnist_train_small.csv\n",
            "california_housing_train.csv  README.md\n"
          ]
        }
      ]
    },
    {
      "cell_type": "code",
      "metadata": {
        "id": "qZG1xEuOGTWj",
        "colab": {
          "base_uri": "https://localhost:8080/",
          "height": 190
        },
        "outputId": "d491ed75-a644-454e-9a41-f91e04e973f2"
      },
      "source": [
        "df = pd.read_csv(label_path)\n",
        "df.head()"
      ],
      "execution_count": null,
      "outputs": [
        {
          "output_type": "error",
          "ename": "NameError",
          "evalue": "ignored",
          "traceback": [
            "\u001b[0;31m---------------------------------------------------------------------------\u001b[0m",
            "\u001b[0;31mNameError\u001b[0m                                 Traceback (most recent call last)",
            "\u001b[0;32m<ipython-input-3-9873408b1aaf>\u001b[0m in \u001b[0;36m<module>\u001b[0;34m()\u001b[0m\n\u001b[0;32m----> 1\u001b[0;31m \u001b[0mdf\u001b[0m \u001b[0;34m=\u001b[0m \u001b[0mpd\u001b[0m\u001b[0;34m.\u001b[0m\u001b[0mread_csv\u001b[0m\u001b[0;34m(\u001b[0m\u001b[0mlabel_path\u001b[0m\u001b[0;34m)\u001b[0m\u001b[0;34m\u001b[0m\u001b[0;34m\u001b[0m\u001b[0m\n\u001b[0m\u001b[1;32m      2\u001b[0m \u001b[0mdf\u001b[0m\u001b[0;34m.\u001b[0m\u001b[0mhead\u001b[0m\u001b[0;34m(\u001b[0m\u001b[0;34m)\u001b[0m\u001b[0;34m\u001b[0m\u001b[0;34m\u001b[0m\u001b[0m\n",
            "\u001b[0;31mNameError\u001b[0m: name 'pd' is not defined"
          ]
        }
      ]
    },
    {
      "cell_type": "code",
      "metadata": {
        "id": "49aKfjP7HH2H",
        "colab": {
          "base_uri": "https://localhost:8080/",
          "height": 85
        },
        "outputId": "33438405-7862-4d5e-de82-8a239deb1ff1"
      },
      "source": [
        "df.count()"
      ],
      "execution_count": null,
      "outputs": [
        {
          "output_type": "execute_result",
          "data": {
            "text/plain": [
              "#            54049\n",
              "File_Name    54049\n",
              "Class        54049\n",
              "dtype: int64"
            ]
          },
          "metadata": {
            "tags": []
          },
          "execution_count": 19
        }
      ]
    },
    {
      "cell_type": "code",
      "metadata": {
        "id": "d2vRxhHSGXIO",
        "colab": {
          "base_uri": "https://localhost:8080/",
          "height": 561
        },
        "outputId": "5a489a30-8124-40c8-e90d-dba7e185be80"
      },
      "source": [
        "classes = df.Class.unique().tolist()\n",
        "classes"
      ],
      "execution_count": null,
      "outputs": [
        {
          "output_type": "execute_result",
          "data": {
            "text/plain": [
              "['ain',\n",
              " 'al',\n",
              " 'aleff',\n",
              " 'bb',\n",
              " 'dal',\n",
              " 'dha',\n",
              " 'dhad',\n",
              " 'fa',\n",
              " 'gaaf',\n",
              " 'ghain',\n",
              " 'ha',\n",
              " 'haa',\n",
              " 'jeem',\n",
              " 'kaaf',\n",
              " 'khaa',\n",
              " 'la',\n",
              " 'laam',\n",
              " 'meem',\n",
              " 'nun',\n",
              " 'ra',\n",
              " 'saad',\n",
              " 'seen',\n",
              " 'sheen',\n",
              " 'ta',\n",
              " 'taa',\n",
              " 'thaa',\n",
              " 'thal',\n",
              " 'toot',\n",
              " 'waw',\n",
              " 'ya',\n",
              " 'yaa',\n",
              " 'zay']"
            ]
          },
          "metadata": {
            "tags": []
          },
          "execution_count": 20
        }
      ]
    },
    {
      "cell_type": "code",
      "metadata": {
        "id": "Id_hz-vYHFCz",
        "colab": {
          "base_uri": "https://localhost:8080/",
          "height": 34
        },
        "outputId": "410fcbc5-e838-4587-c235-e6c736a4e985"
      },
      "source": [
        "from tensorflow.keras.preprocessing.image import ImageDataGenerator\n",
        "\n",
        "datagen = ImageDataGenerator(rescale=1.0/255) ## check\n",
        "data_generator = datagen.flow_from_directory(\n",
        "        dataset_path,\n",
        "        target_size=(64, 64),\n",
        "        batch_size=32,\n",
        "        color_mode=\"grayscale\",\n",
        "        classes = classes)"
      ],
      "execution_count": null,
      "outputs": [
        {
          "output_type": "stream",
          "text": [
            "Found 54069 images belonging to 32 classes.\n"
          ],
          "name": "stdout"
        }
      ]
    },
    {
      "cell_type": "code",
      "metadata": {
        "id": "V-3BoPk9HKcY",
        "colab": {
          "base_uri": "https://localhost:8080/",
          "height": 530
        },
        "outputId": "9e101dd1-6a7a-42f7-cf9f-d060d2751bdd"
      },
      "source": [
        "from tensorflow.keras import models\n",
        "from tensorflow.keras import layers\n",
        "from tensorflow.keras.optimizers import Adam\n",
        "\n",
        "# build a 6-layer\n",
        "with tf.device('/device:GPU:0'):\n",
        "  model = models.Sequential()\n",
        "  model.add(layers.Conv2D(32, (3, 3), activation='relu', input_shape=(64, 64, 1)))\n",
        "  model.add(layers.MaxPooling2D((2, 2)))\n",
        "\n",
        "  model.add(layers.Conv2D(64, (3, 3), activation='relu'))\n",
        "  model.add(layers.MaxPooling2D((2, 2)))\n",
        "\n",
        "  model.add(layers.Conv2D(64, (3, 3), activation='relu'))\n",
        "\n",
        "  model.add(layers.Flatten())\n",
        "  model.add(layers.Dense(64, activation='relu'))\n",
        "  model.add(layers.Dense(32, activation='softmax'))\n",
        "  optimizer = Adam(lr=0.001)\n",
        "  model.compile(optimizer=optimizer, loss='categorical_crossentropy', metrics=['accuracy'])\n",
        "  history = model.fit_generator(\n",
        "      data_generator,\n",
        "      steps_per_epoch=2000 // 32,\n",
        "      epochs=20)\n"
      ],
      "execution_count": null,
      "outputs": [
        {
          "output_type": "stream",
          "text": [
            "WARNING:tensorflow:From <ipython-input-22-669e37eb05d7>:24: Model.fit_generator (from tensorflow.python.keras.engine.training) is deprecated and will be removed in a future version.\n",
            "Instructions for updating:\n",
            "Please use Model.fit, which supports generators.\n",
            "Epoch 1/20\n",
            "62/62 [==============================] - 705s 11s/step - loss: 3.4637 - accuracy: 0.0383\n",
            "Epoch 2/20\n",
            "62/62 [==============================] - 654s 11s/step - loss: 3.3534 - accuracy: 0.0721\n",
            "Epoch 3/20\n",
            "62/62 [==============================] - 617s 10s/step - loss: 2.7019 - accuracy: 0.1981\n",
            "Epoch 4/20\n",
            "62/62 [==============================] - 582s 9s/step - loss: 2.1577 - accuracy: 0.3760\n",
            "Epoch 5/20\n",
            "62/62 [==============================] - 587s 9s/step - loss: 1.8182 - accuracy: 0.4461\n",
            "Epoch 6/20\n",
            "62/62 [==============================] - 558s 9s/step - loss: 1.5725 - accuracy: 0.5277\n",
            "Epoch 7/20\n",
            "62/62 [==============================] - 554s 9s/step - loss: 1.3647 - accuracy: 0.5902\n",
            "Epoch 8/20\n",
            "62/62 [==============================] - 495s 8s/step - loss: 1.1427 - accuracy: 0.6487\n",
            "Epoch 9/20\n",
            "62/62 [==============================] - 483s 8s/step - loss: 0.9918 - accuracy: 0.6855\n",
            "Epoch 10/20\n",
            "62/62 [==============================] - 464s 7s/step - loss: 0.8602 - accuracy: 0.7369\n",
            "Epoch 11/20\n",
            "62/62 [==============================] - 446s 7s/step - loss: 0.8065 - accuracy: 0.7636\n",
            "Epoch 12/20\n",
            "62/62 [==============================] - 438s 7s/step - loss: 0.6975 - accuracy: 0.7792\n",
            "Epoch 13/20\n",
            "26/62 [===========>..................] - ETA: 3:45 - loss: 0.6606 - accuracy: 0.8161"
          ],
          "name": "stdout"
        }
      ]
    },
    {
      "cell_type": "code",
      "metadata": {
        "id": "-V4i_uF0HrfO",
        "colab": {
          "base_uri": "https://localhost:8080/",
          "height": 214
        },
        "outputId": "3e1bbb6a-c16d-400f-ab5e-01fa051d8227"
      },
      "source": [
        "\n",
        "\n",
        "model.save(\"/content/sample_data/model.h5\")\n",
        "!cp \"/content/sample_data/model.h5\" \"/content/drive/My Drive/model.h5\""
      ],
      "execution_count": null,
      "outputs": [
        {
          "output_type": "error",
          "ename": "NameError",
          "evalue": "ignored",
          "traceback": [
            "\u001b[0;31m---------------------------------------------------------------------------\u001b[0m",
            "\u001b[0;31mNameError\u001b[0m                                 Traceback (most recent call last)",
            "\u001b[0;32m<ipython-input-1-6023468bd447>\u001b[0m in \u001b[0;36m<module>\u001b[0;34m()\u001b[0m\n\u001b[1;32m      1\u001b[0m \u001b[0;34m\u001b[0m\u001b[0m\n\u001b[1;32m      2\u001b[0m \u001b[0;34m\u001b[0m\u001b[0m\n\u001b[0;32m----> 3\u001b[0;31m \u001b[0mmodel\u001b[0m\u001b[0;34m.\u001b[0m\u001b[0msave\u001b[0m\u001b[0;34m(\u001b[0m\u001b[0;34m\"/content/sample_data/model.h5\"\u001b[0m\u001b[0;34m)\u001b[0m\u001b[0;34m\u001b[0m\u001b[0;34m\u001b[0m\u001b[0m\n\u001b[0m\u001b[1;32m      4\u001b[0m \u001b[0mget_ipython\u001b[0m\u001b[0;34m(\u001b[0m\u001b[0;34m)\u001b[0m\u001b[0;34m.\u001b[0m\u001b[0msystem\u001b[0m\u001b[0;34m(\u001b[0m\u001b[0;34m'cp \"/content/sample_data/model.h5\" \"/content/drive/My Drive/model.h5\"'\u001b[0m\u001b[0;34m)\u001b[0m\u001b[0;34m\u001b[0m\u001b[0;34m\u001b[0m\u001b[0m\n",
            "\u001b[0;31mNameError\u001b[0m: name 'model' is not defined"
          ]
        }
      ]
    },
    {
      "cell_type": "code",
      "metadata": {
        "id": "KMeQ5qFkI9mc"
      },
      "source": [
        ""
      ],
      "execution_count": null,
      "outputs": []
    }
  ]
}